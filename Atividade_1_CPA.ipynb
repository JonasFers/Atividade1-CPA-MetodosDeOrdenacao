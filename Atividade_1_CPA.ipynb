{
  "cells": [
    {
      "cell_type": "markdown",
      "metadata": {
        "id": "view-in-github",
        "colab_type": "text"
      },
      "source": [
        "<a href=\"https://colab.research.google.com/github/JonasFers/Atividade1-CPA-MetodosDeOrdenacao/blob/main/Atividade_1_CPA.ipynb\" target=\"_parent\"><img src=\"https://colab.research.google.com/assets/colab-badge.svg\" alt=\"Open In Colab\"/></a>"
      ]
    },
    {
      "cell_type": "markdown",
      "metadata": {
        "id": "XAdlKnDBj5uB"
      },
      "source": [
        "# EFC1 GCC253 - Complexidade e Projeto de Algoritmos - 5 pontos.\n",
        "\n",
        "\n",
        "> **Prof.: Douglas H. S. Abreu**\n",
        "\n",
        "\n",
        "**Alunos**: Jonas Fernandes dos Reis; Paulo Eduardo Soares Rezende\n",
        "\n",
        "**Matricula**: 202020470; 202020110\n",
        "\n",
        "**Turma**: 14A\n",
        "\n",
        "Link do repositório GitHub: \n",
        "\n",
        "● O trabalho deve ser feito em grupos de no máximo 4 componentes (Apenas um deve enviar a atividade no Campus Virtual)\n",
        "\n",
        "● Trabalhos entregues após a data limite não serão aceitos\n",
        "\n",
        "● Data limite de entrega: 20 de Novembro de 2022 : 23h55m\n",
        "\n",
        "● Enviar o trabalho para o campus virtual, do seguinte modo: link do repositório GitHub com acesso ao Notebook.\n",
        "\n",
        "● O trabalho deve ser desenvolvido no modelo Notebook utilizando preferencialmente a linguagem Python"
      ]
    },
    {
      "cell_type": "markdown",
      "metadata": {
        "id": "J3d6JlRUxREN"
      },
      "source": [
        "# Importações e Variáveis globais"
      ]
    },
    {
      "cell_type": "code",
      "execution_count": 129,
      "metadata": {
        "id": "Ur1DVGQAxac4"
      },
      "outputs": [],
      "source": [
        "import numpy as np\n",
        "\n",
        "global_1 = 0"
      ]
    },
    {
      "cell_type": "markdown",
      "metadata": {
        "id": "kPNpzNYwkKAO"
      },
      "source": [
        "# Funções de Ordenação\n",
        "\n",
        "> Utilize este espaço para definir as funções de ordenação.\n",
        "\n"
      ]
    },
    {
      "cell_type": "markdown",
      "metadata": {
        "id": "nEw1UEsmoKMg"
      },
      "source": [
        "##  Insertion Sort\n"
      ]
    },
    {
      "cell_type": "code",
      "execution_count": 128,
      "metadata": {
        "id": "kbOrhdB-j_px"
      },
      "outputs": [],
      "source": [
        "def insertionSort(vetor):\n",
        "  for j in range(1, len(vetor)):\n",
        "    chave = vetor[j]\n",
        "    i = j - 1\n",
        "    while (i >= 0 and vetor[i] > chave):\n",
        "      vetor[i + 1] = vetor[i]\n",
        "      i = i - 1\n",
        "    vetor[i + 1] = chave\n",
        "  print(vetor)\n",
        "  return"
      ]
    },
    {
      "cell_type": "markdown",
      "metadata": {
        "id": "9a-wJwU-wtmQ"
      },
      "source": [
        "##  Merge Sort\n"
      ]
    },
    {
      "cell_type": "code",
      "execution_count": 127,
      "metadata": {
        "id": "8cgIJ_4EwbPN"
      },
      "outputs": [],
      "source": [
        "def mergeSort(vetor):\n",
        "  if len(vetor) > 1:\n",
        "    metade = len(vetor)//2\n",
        "    mtd_esquerda = vetor[:metade]\n",
        "    mtd_direita = vetor[metade:]\n",
        "    mergeSort(mtd_esquerda)\n",
        "    mergeSort(mtd_direita)\n",
        "    i = j = k = 0\n",
        "    while (i < len(mtd_esquerda) and j < len(mtd_direita)):\n",
        "      if mtd_esquerda[i] <= mtd_direita[j]:\n",
        "        vetor[k] = mtd_esquerda[i]\n",
        "        i += 1\n",
        "      else:\n",
        "        vetor[k] = mtd_direita[j]\n",
        "        j += 1\n",
        "      k += 1\n",
        "    while (i < len(mtd_esquerda)):\n",
        "        vetor[k] = mtd_esquerda[i]\n",
        "        i += 1\n",
        "        k += 1\n",
        "    while (j < len(mtd_direita)):\n",
        "        vetor[k] = mtd_direita[j]\n",
        "        j += 1\n",
        "        k += 1\n",
        "  return"
      ]
    },
    {
      "cell_type": "markdown",
      "metadata": {
        "id": "8dWpeYUvw-wU"
      },
      "source": [
        "##  Selection Sort\n"
      ]
    },
    {
      "cell_type": "code",
      "execution_count": 126,
      "metadata": {
        "id": "vNgUDShawygu"
      },
      "outputs": [],
      "source": [
        "def selectionSort(vetor):\n",
        "  for i in range(len(vetor)):\n",
        "    menor = i\n",
        "    for j in range(i + 1, len(vetor)):\n",
        "      if vetor[menor] > vetor[j]:\n",
        "        menor = j\n",
        "    vetor[i], vetor[menor] = vetor[menor], vetor[i]\n",
        "  print(vetor)"
      ]
    },
    {
      "cell_type": "markdown",
      "metadata": {
        "id": "zNI1kX0yyDrs"
      },
      "source": [
        "##  Bubble Sort\n"
      ]
    },
    {
      "cell_type": "code",
      "execution_count": 125,
      "metadata": {
        "id": "6X_zk1yWxMQS"
      },
      "outputs": [],
      "source": [
        "def bubbleSort(vetor):\n",
        "    tamanho = len(vetor)\n",
        "    for i in range(tamanho):\n",
        "        for j in range(0, tamanho - i - 1):\n",
        "            if vetor[j] > vetor[j + 1]:\n",
        "                vetor[j], vetor[j + 1] = vetor[j + 1], vetor[j]\n",
        "    print(vetor)\n",
        "    return"
      ]
    },
    {
      "cell_type": "markdown",
      "metadata": {
        "id": "vk4vOTkKyLB-"
      },
      "source": [
        "## Heap Sort"
      ]
    },
    {
      "cell_type": "code",
      "execution_count": 124,
      "metadata": {
        "id": "39a7xXzLyH9g"
      },
      "outputs": [],
      "source": [
        "def heapify(vetor, tamanho, i):\n",
        "    maior = i\n",
        "    l = 2 * i + 1\n",
        "    r = 2 * i + 2\n",
        "    if l < tamanho and vetor[maior] < vetor[l]:\n",
        "        maior = l\n",
        "    if r < tamanho and vetor[maior] < vetor[r]:\n",
        "        maior = r\n",
        "    if maior != i:\n",
        "        vetor[i], vetor[maior] = vetor[maior], vetor[i]\n",
        "        heapify(vetor, tamanho, maior)\n",
        "\n",
        "def heapSort(vetor):\n",
        "    tamanho = len(vetor)\n",
        "    for i in range(tamanho // 2 - 1, -1, -1):\n",
        "        heapify(vetor, tamanho, i)\n",
        "    for i in range(tamanho - 1, 0, -1):\n",
        "        vetor[i], vetor[0] = vetor[0], vetor[i]\n",
        "        heapify(vetor, i, 0)\n",
        "    print(vetor)\n",
        "    return"
      ]
    },
    {
      "cell_type": "markdown",
      "metadata": {
        "id": "fFiGho5CyU3t"
      },
      "source": [
        "## Quick Sort com pivo sendo o ultimo elemento do arranjo\n",
        "\n",
        "> pivo = *A[A-comprimento]*"
      ]
    },
    {
      "cell_type": "code",
      "execution_count": 123,
      "metadata": {
        "id": "1Ie_N5CRyKY7"
      },
      "outputs": [],
      "source": [
        "def particiona(vetor, menor, maior):\n",
        "    pivo = vetor[maior]\n",
        "    i = menor - 1\n",
        "    for j in range(menor, maior):\n",
        "        if vetor[j] <= pivo:\n",
        "            i = i + 1\n",
        "            (vetor[i], vetor[j]) = (vetor[j], vetor[i])\n",
        "    (vetor[i + 1], vetor[maior]) = (vetor[maior], vetor[i + 1])\n",
        "    return i + 1\n",
        "  \n",
        "def quickSort(vetor, menor, maior):\n",
        "    if menor < maior:\n",
        "        pi = particiona(vetor, menor, maior)\n",
        "        quickSort(vetor, menor, pi - 1)\n",
        "        quickSort(vetor, pi + 1, maior)\n",
        "    return"
      ]
    },
    {
      "cell_type": "markdown",
      "metadata": {
        "id": "VomdAnCrzEv1"
      },
      "source": [
        "# Questões"
      ]
    },
    {
      "cell_type": "markdown",
      "metadata": {
        "id": "3QKV979kzItD"
      },
      "source": [
        "\n",
        "\n",
        "1.   Escolha pelo menos 3 arranjos. Ex: ***A[5,...,1000,...,100]*** e mostre o funcionamento dos Algoritmos realizando a ordenação.\n",
        "\n",
        "\n",
        "\n"
      ]
    },
    {
      "cell_type": "code",
      "execution_count": 130,
      "metadata": {
        "colab": {
          "base_uri": "https://localhost:8080/"
        },
        "id": "nBfs279_1Vko",
        "outputId": "0d936dc1-468e-4112-c5c4-8b9b4a8b4ee6"
      },
      "outputs": [
        {
          "output_type": "stream",
          "name": "stdout",
          "text": [
            "INSERTION SORT:\n",
            "[26, 31, 41, 41, 58, 59]\n",
            "[11, 21, 39, 46, 61, 88]\n",
            "[1, 11, 29, 66, 91, 98]\n",
            "\n",
            "MERGE SORT:\n",
            "[26, 31, 41, 41, 58, 59]\n",
            "[11, 21, 39, 46, 61, 88]\n",
            "[1, 11, 29, 66, 91, 98]\n",
            "\n",
            "SELECTION SORT:\n",
            "[26, 31, 41, 41, 58, 59]\n",
            "[11, 21, 39, 46, 61, 88]\n",
            "[1, 11, 29, 66, 91, 98]\n",
            "\n",
            "BUBBLE SORT:\n",
            "[26, 31, 41, 41, 58, 59]\n",
            "[11, 21, 39, 46, 61, 88]\n",
            "[1, 11, 29, 66, 91, 98]\n",
            "\n",
            "HEAP SORT:\n",
            "[26, 31, 41, 41, 58, 59]\n",
            "[11, 21, 39, 46, 61, 88]\n",
            "[1, 11, 29, 66, 91, 98]\n",
            "\n",
            "QUICK SORT:\n",
            "[26, 31, 41, 41, 58, 59]\n",
            "[11, 21, 39, 46, 61, 88]\n",
            "[1, 11, 29, 66, 91, 98]\n"
          ]
        }
      ],
      "source": [
        "vetor1 = [31, 41, 59, 26, 41, 58]\n",
        "vetor2 = [11, 21, 39, 46, 61, 88]\n",
        "vetor3 = [91, 11, 29, 66, 1, 98]\n",
        "\n",
        "print(\"INSERTION SORT:\")\n",
        "insertionSort(vetor1)\n",
        "insertionSort(vetor2)\n",
        "insertionSort(vetor3)\n",
        "\n",
        "vetor1 = [31, 41, 59, 26, 41, 58]\n",
        "vetor2 = [11, 21, 39, 46, 61, 88]\n",
        "vetor3 = [91, 11, 29, 66, 1, 98]\n",
        "\n",
        "print(\"\\nMERGE SORT:\")\n",
        "mergeSort(vetor1)\n",
        "print(vetor1)\n",
        "mergeSort(vetor2)\n",
        "print(vetor2)\n",
        "mergeSort(vetor3)\n",
        "print(vetor3)\n",
        "\n",
        "vetor1 = [31, 41, 59, 26, 41, 58]\n",
        "vetor2 = [11, 21, 39, 46, 61, 88]\n",
        "vetor3 = [91, 11, 29, 66, 1, 98]\n",
        "\n",
        "print(\"\\nSELECTION SORT:\")\n",
        "selectionSort(vetor1)\n",
        "selectionSort(vetor2)\n",
        "selectionSort(vetor3)\n",
        "\n",
        "vetor1 = [31, 41, 59, 26, 41, 58]\n",
        "vetor2 = [11, 21, 39, 46, 61, 88]\n",
        "vetor3 = [91, 11, 29, 66, 1, 98]\n",
        "\n",
        "print(\"\\nBUBBLE SORT:\")\n",
        "bubbleSort(vetor1)\n",
        "bubbleSort(vetor2)\n",
        "bubbleSort(vetor3)\n",
        "\n",
        "vetor1 = [31, 41, 59, 26, 41, 58]\n",
        "vetor2 = [11, 21, 39, 46, 61, 88]\n",
        "vetor3 = [91, 11, 29, 66, 1, 98]\n",
        "\n",
        "print(\"\\nHEAP SORT:\")\n",
        "heapSort(vetor1)\n",
        "heapSort(vetor2)\n",
        "heapSort(vetor3)\n",
        "\n",
        "vetor1 = [31, 41, 59, 26, 41, 58]\n",
        "vetor2 = [11, 21, 39, 46, 61, 88]\n",
        "vetor3 = [91, 11, 29, 66, 1, 98]\n",
        "\n",
        "print(\"\\nQUICK SORT:\")\n",
        "quickSort(vetor1, 0, len(vetor1) - 1)\n",
        "print(vetor1)\n",
        "quickSort(vetor2, 0, len(vetor2) - 1)\n",
        "print(vetor2)\n",
        "quickSort(vetor3, 0, len(vetor3) - 1)\n",
        "print(vetor3)"
      ]
    }
  ],
  "metadata": {
    "colab": {
      "provenance": [],
      "include_colab_link": true
    },
    "kernelspec": {
      "display_name": "Python 3",
      "name": "python3"
    },
    "language_info": {
      "name": "python"
    }
  },
  "nbformat": 4,
  "nbformat_minor": 0
}